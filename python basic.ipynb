{
 "cells": [
  {
   "cell_type": "code",
   "execution_count": 105,
   "id": "bece2e26-9b4c-4936-904d-9e8ca7d03c5e",
   "metadata": {},
   "outputs": [
    {
     "data": {
      "text/plain": [
       "2"
      ]
     },
     "execution_count": 105,
     "metadata": {},
     "output_type": "execute_result"
    }
   ],
   "source": [
    "1+1"
   ]
  },
  {
   "cell_type": "code",
   "execution_count": 106,
   "id": "2e02387c-c561-4b35-8f45-dab592eaf4cf",
   "metadata": {},
   "outputs": [
    {
     "data": {
      "text/plain": [
       "25"
      ]
     },
     "execution_count": 106,
     "metadata": {},
     "output_type": "execute_result"
    }
   ],
   "source": [
    "5*5"
   ]
  },
  {
   "cell_type": "code",
   "execution_count": 107,
   "id": "61f77866-33c0-4d5b-8f71-e9d2f06bb662",
   "metadata": {},
   "outputs": [],
   "source": [
    "a=10"
   ]
  },
  {
   "cell_type": "code",
   "execution_count": 108,
   "id": "0ea542c3-74ab-4996-9664-ced8160760fa",
   "metadata": {},
   "outputs": [
    {
     "data": {
      "text/plain": [
       "10"
      ]
     },
     "execution_count": 108,
     "metadata": {},
     "output_type": "execute_result"
    }
   ],
   "source": [
    "a"
   ]
  },
  {
   "cell_type": "code",
   "execution_count": 109,
   "id": "7231206f-83b3-4e18-a689-6f95560ec57f",
   "metadata": {},
   "outputs": [],
   "source": [
    "tiya=20"
   ]
  },
  {
   "cell_type": "code",
   "execution_count": 110,
   "id": "e59dd3bb-3c3f-48ed-8fd4-5780a5b153ea",
   "metadata": {},
   "outputs": [
    {
     "data": {
      "text/plain": [
       "20"
      ]
     },
     "execution_count": 110,
     "metadata": {},
     "output_type": "execute_result"
    }
   ],
   "source": [
    "tiya"
   ]
  },
  {
   "cell_type": "code",
   "execution_count": 111,
   "id": "64849660-df1a-4db9-a2b2-e791a142c097",
   "metadata": {},
   "outputs": [
    {
     "data": {
      "text/plain": [
       "30"
      ]
     },
     "execution_count": 111,
     "metadata": {},
     "output_type": "execute_result"
    }
   ],
   "source": [
    "a+tiya"
   ]
  },
  {
   "cell_type": "code",
   "execution_count": 112,
   "id": "ccdc6e25-0321-420a-a253-a5402f54894c",
   "metadata": {},
   "outputs": [
    {
     "data": {
      "text/plain": [
       "int"
      ]
     },
     "execution_count": 112,
     "metadata": {},
     "output_type": "execute_result"
    }
   ],
   "source": [
    "type(a)"
   ]
  },
  {
   "cell_type": "code",
   "execution_count": 113,
   "id": "3a6c80aa-4b81-433e-8098-1fb1db6a2d6e",
   "metadata": {},
   "outputs": [],
   "source": [
    "b=2.09 # floting point numbers"
   ]
  },
  {
   "cell_type": "code",
   "execution_count": 114,
   "id": "dd522f8c-a4f6-4156-9c0d-b9d3f88e94c2",
   "metadata": {},
   "outputs": [
    {
     "data": {
      "text/plain": [
       "float"
      ]
     },
     "execution_count": 114,
     "metadata": {},
     "output_type": "execute_result"
    }
   ],
   "source": [
    "type(b)"
   ]
  },
  {
   "cell_type": "code",
   "execution_count": 115,
   "id": "a2a6d394-78c1-4a23-830f-8df0bc2f8bde",
   "metadata": {},
   "outputs": [],
   "source": [
    "d=\"Tiyasha\""
   ]
  },
  {
   "cell_type": "code",
   "execution_count": 116,
   "id": "542d54f0-345a-4e32-bc9f-5117bb6624f9",
   "metadata": {},
   "outputs": [
    {
     "data": {
      "text/plain": [
       "str"
      ]
     },
     "execution_count": 116,
     "metadata": {},
     "output_type": "execute_result"
    }
   ],
   "source": [
    "type(d)"
   ]
  },
  {
   "cell_type": "code",
   "execution_count": 117,
   "id": "ef450737-3c02-4bce-82a7-d69c015a5384",
   "metadata": {},
   "outputs": [],
   "source": [
    "e=True  #True means internally 1"
   ]
  },
  {
   "cell_type": "code",
   "execution_count": 118,
   "id": "dcc65b03-48ff-490f-9955-f248b38add1d",
   "metadata": {},
   "outputs": [
    {
     "data": {
      "text/plain": [
       "bool"
      ]
     },
     "execution_count": 118,
     "metadata": {},
     "output_type": "execute_result"
    }
   ],
   "source": [
    "type(e)"
   ]
  },
  {
   "cell_type": "code",
   "execution_count": 119,
   "id": "306e17b8-1fd6-4992-88d9-9d030f257a88",
   "metadata": {},
   "outputs": [],
   "source": [
    "f=False  #False means internally 0"
   ]
  },
  {
   "cell_type": "code",
   "execution_count": 120,
   "id": "dd85e5a6-d54a-49e9-9fcc-bfd313f75160",
   "metadata": {},
   "outputs": [
    {
     "data": {
      "text/plain": [
       "bool"
      ]
     },
     "execution_count": 120,
     "metadata": {},
     "output_type": "execute_result"
    }
   ],
   "source": [
    "type(f)"
   ]
  },
  {
   "cell_type": "code",
   "execution_count": 121,
   "id": "bfeae6e5-ba4c-4686-ad27-7aef38db7ebd",
   "metadata": {},
   "outputs": [
    {
     "data": {
      "text/plain": [
       "1"
      ]
     },
     "execution_count": 121,
     "metadata": {},
     "output_type": "execute_result"
    }
   ],
   "source": [
    "e+f"
   ]
  },
  {
   "cell_type": "code",
   "execution_count": 122,
   "id": "443b52c9-61c7-4a39-a764-8e08ddee4d06",
   "metadata": {},
   "outputs": [
    {
     "data": {
      "text/plain": [
       "1"
      ]
     },
     "execution_count": 122,
     "metadata": {},
     "output_type": "execute_result"
    }
   ],
   "source": [
    "True * True"
   ]
  },
  {
   "cell_type": "code",
   "execution_count": 123,
   "id": "4c57806b-c43b-4718-95c3-ac121e4f8b3b",
   "metadata": {},
   "outputs": [
    {
     "data": {
      "text/plain": [
       "0"
      ]
     },
     "execution_count": 123,
     "metadata": {},
     "output_type": "execute_result"
    }
   ],
   "source": [
    "True * False"
   ]
  },
  {
   "cell_type": "code",
   "execution_count": 124,
   "id": "7f7fdaa2-b0c0-4fc3-8d26-7d89714cd732",
   "metadata": {},
   "outputs": [
    {
     "ename": "ZeroDivisionError",
     "evalue": "division by zero",
     "output_type": "error",
     "traceback": [
      "\u001b[0;31m---------------------------------------------------------------------------\u001b[0m",
      "\u001b[0;31mZeroDivisionError\u001b[0m                         Traceback (most recent call last)",
      "Cell \u001b[0;32mIn[124], line 1\u001b[0m\n\u001b[0;32m----> 1\u001b[0m \u001b[38;5;28;43;01mTrue\u001b[39;49;00m\u001b[43m \u001b[49m\u001b[38;5;241;43m/\u001b[39;49m\u001b[43m \u001b[49m\u001b[38;5;28;43;01mFalse\u001b[39;49;00m\n",
      "\u001b[0;31mZeroDivisionError\u001b[0m: division by zero"
     ]
    }
   ],
   "source": [
    "True / False"
   ]
  },
  {
   "cell_type": "code",
   "execution_count": 125,
   "id": "0a87a91d-54a3-48f9-bb24-73152047a9a1",
   "metadata": {},
   "outputs": [
    {
     "data": {
      "text/plain": [
       "0.0"
      ]
     },
     "execution_count": 125,
     "metadata": {},
     "output_type": "execute_result"
    }
   ],
   "source": [
    "False / True"
   ]
  },
  {
   "cell_type": "code",
   "execution_count": 126,
   "id": "0bfe313e-f562-4a16-96c8-91597f070f1b",
   "metadata": {},
   "outputs": [],
   "source": [
    "#The complex number is basically the combination of a real number and an imaginary number."
   ]
  },
  {
   "cell_type": "code",
   "execution_count": 127,
   "id": "df8c4bfc-d1e1-4431-9975-542c893b1e1d",
   "metadata": {},
   "outputs": [],
   "source": [
    "tiya = 5 + 8j  # python don't know i only we can write j or J"
   ]
  },
  {
   "cell_type": "code",
   "execution_count": 128,
   "id": "d4274922-ef3b-47ee-bde8-23c82439c54a",
   "metadata": {},
   "outputs": [
    {
     "data": {
      "text/plain": [
       "complex"
      ]
     },
     "execution_count": 128,
     "metadata": {},
     "output_type": "execute_result"
    }
   ],
   "source": [
    "type(v)"
   ]
  },
  {
   "cell_type": "code",
   "execution_count": 129,
   "id": "73735b41-e02d-45ae-aadd-e294cdb7e71f",
   "metadata": {},
   "outputs": [
    {
     "data": {
      "text/plain": [
       "5.0"
      ]
     },
     "execution_count": 129,
     "metadata": {},
     "output_type": "execute_result"
    }
   ],
   "source": [
    "tiya.real"
   ]
  },
  {
   "cell_type": "code",
   "execution_count": 130,
   "id": "d0634515-4969-47b5-9405-920d0ffe8215",
   "metadata": {},
   "outputs": [
    {
     "data": {
      "text/plain": [
       "8.0"
      ]
     },
     "execution_count": 130,
     "metadata": {},
     "output_type": "execute_result"
    }
   ],
   "source": [
    "tiya.imag"
   ]
  },
  {
   "cell_type": "code",
   "execution_count": 131,
   "id": "6770c67d-12cc-43f0-9adc-548cc36e8a70",
   "metadata": {},
   "outputs": [
    {
     "data": {
      "text/plain": [
       "(5+8j)"
      ]
     },
     "execution_count": 131,
     "metadata": {},
     "output_type": "execute_result"
    }
   ],
   "source": [
    "tiya"
   ]
  },
  {
   "cell_type": "code",
   "execution_count": 132,
   "id": "f9fdf804-78ad-46fb-b441-dbf747d37a7e",
   "metadata": {},
   "outputs": [
    {
     "name": "stdout",
     "output_type": "stream",
     "text": [
      "My name is Tiyasha Neogi\n"
     ]
    }
   ],
   "source": [
    "print(\"My name is Tiyasha Neogi\")"
   ]
  },
  {
   "cell_type": "code",
   "execution_count": 133,
   "id": "63f36db3-5d73-4789-9b23-fdd8e268089e",
   "metadata": {},
   "outputs": [
    {
     "name": "stdout",
     "output_type": "stream",
     "text": [
      "(5+8j)\n"
     ]
    }
   ],
   "source": [
    "print(tiya)"
   ]
  },
  {
   "cell_type": "code",
   "execution_count": 134,
   "id": "9a51bbc0-e62c-4acc-b6ab-51c0e118d393",
   "metadata": {},
   "outputs": [
    {
     "data": {
      "text/plain": [
       "str"
      ]
     },
     "execution_count": 134,
     "metadata": {},
     "output_type": "execute_result"
    }
   ],
   "source": [
    "s=\"pwskills\"\n",
    "type(s)"
   ]
  },
  {
   "cell_type": "code",
   "execution_count": 135,
   "id": "aa1ae8ee-02ff-4bd1-8ea2-c7e01e1cdd11",
   "metadata": {},
   "outputs": [
    {
     "data": {
      "text/plain": [
       "'p'"
      ]
     },
     "execution_count": 135,
     "metadata": {},
     "output_type": "execute_result"
    }
   ],
   "source": [
    "s[0]"
   ]
  },
  {
   "cell_type": "code",
   "execution_count": 136,
   "id": "57fa728d-1c7f-407e-8d30-becffc6ad5ae",
   "metadata": {},
   "outputs": [
    {
     "data": {
      "text/plain": [
       "'l'"
      ]
     },
     "execution_count": 136,
     "metadata": {},
     "output_type": "execute_result"
    }
   ],
   "source": [
    "s[-2]"
   ]
  },
  {
   "cell_type": "code",
   "execution_count": 137,
   "id": "a803e3c5-8126-402c-8440-1b28e8da5ea8",
   "metadata": {},
   "outputs": [
    {
     "data": {
      "text/plain": [
       "'pws'"
      ]
     },
     "execution_count": 137,
     "metadata": {},
     "output_type": "execute_result"
    }
   ],
   "source": [
    "s[0:3]"
   ]
  },
  {
   "cell_type": "code",
   "execution_count": 138,
   "id": "9f11ee70-d42f-492c-b172-44507514a0b8",
   "metadata": {},
   "outputs": [
    {
     "data": {
      "text/plain": [
       "'psil'"
      ]
     },
     "execution_count": 138,
     "metadata": {},
     "output_type": "execute_result"
    }
   ],
   "source": [
    "s[0:8:2]  # means jump "
   ]
  },
  {
   "cell_type": "code",
   "execution_count": 139,
   "id": "95f871ba-6a99-4319-a03d-8d104dbbfbc0",
   "metadata": {},
   "outputs": [
    {
     "data": {
      "text/plain": [
       "'psil'"
      ]
     },
     "execution_count": 139,
     "metadata": {},
     "output_type": "execute_result"
    }
   ],
   "source": [
    "s[::2]"
   ]
  },
  {
   "cell_type": "code",
   "execution_count": 140,
   "id": "23653967-2e48-4d08-a149-0fa1091c5480",
   "metadata": {},
   "outputs": [
    {
     "data": {
      "text/plain": [
       "'psil'"
      ]
     },
     "execution_count": 140,
     "metadata": {},
     "output_type": "execute_result"
    }
   ],
   "source": [
    "s[0::2]"
   ]
  },
  {
   "cell_type": "code",
   "execution_count": 141,
   "id": "937f9628-7664-4491-b258-181db0f964e5",
   "metadata": {},
   "outputs": [
    {
     "data": {
      "text/plain": [
       "'sil'"
      ]
     },
     "execution_count": 141,
     "metadata": {},
     "output_type": "execute_result"
    }
   ],
   "source": [
    "s[2::2]"
   ]
  },
  {
   "cell_type": "code",
   "execution_count": 142,
   "id": "8e59122c-09dc-4125-a94b-be6f3df0013e",
   "metadata": {},
   "outputs": [
    {
     "ename": "ValueError",
     "evalue": "slice step cannot be zero",
     "output_type": "error",
     "traceback": [
      "\u001b[0;31m---------------------------------------------------------------------------\u001b[0m",
      "\u001b[0;31mValueError\u001b[0m                                Traceback (most recent call last)",
      "Cell \u001b[0;32mIn[142], line 1\u001b[0m\n\u001b[0;32m----> 1\u001b[0m \u001b[43ms\u001b[49m\u001b[43m[\u001b[49m\u001b[38;5;241;43m2\u001b[39;49m\u001b[43m:\u001b[49m\u001b[43m:\u001b[49m\u001b[38;5;241;43m0\u001b[39;49m\u001b[43m]\u001b[49m\n",
      "\u001b[0;31mValueError\u001b[0m: slice step cannot be zero"
     ]
    }
   ],
   "source": [
    "s[2::0]"
   ]
  },
  {
   "cell_type": "code",
   "execution_count": 143,
   "id": "21445d5b-1fbc-407e-926c-12250ce229d5",
   "metadata": {},
   "outputs": [
    {
     "data": {
      "text/plain": [
       "'skills'"
      ]
     },
     "execution_count": 143,
     "metadata": {},
     "output_type": "execute_result"
    }
   ],
   "source": [
    "s[2::1]"
   ]
  },
  {
   "cell_type": "code",
   "execution_count": 144,
   "id": "3c98d07a-6124-4f50-b21a-562f6f42ee58",
   "metadata": {},
   "outputs": [
    {
     "data": {
      "text/plain": [
       "'sllikswp'"
      ]
     },
     "execution_count": 144,
     "metadata": {},
     "output_type": "execute_result"
    }
   ],
   "source": [
    "s[::-1] #reversed"
   ]
  },
  {
   "cell_type": "code",
   "execution_count": 145,
   "id": "c5eee473-74eb-4db9-afc3-bedf42e506c9",
   "metadata": {},
   "outputs": [
    {
     "data": {
      "text/plain": [
       "''"
      ]
     },
     "execution_count": 145,
     "metadata": {},
     "output_type": "execute_result"
    }
   ],
   "source": [
    "s[2:7:-1]"
   ]
  },
  {
   "cell_type": "code",
   "execution_count": 146,
   "id": "13c48794-7a25-460f-b203-0be457a3d320",
   "metadata": {},
   "outputs": [
    {
     "data": {
      "text/plain": [
       "''"
      ]
     },
     "execution_count": 146,
     "metadata": {},
     "output_type": "execute_result"
    }
   ],
   "source": [
    "s[8:0]"
   ]
  },
  {
   "cell_type": "code",
   "execution_count": 147,
   "id": "979ed51d-a88e-41bf-a3ec-66409f46d278",
   "metadata": {},
   "outputs": [
    {
     "data": {
      "text/plain": [
       "'slliksw'"
      ]
     },
     "execution_count": 147,
     "metadata": {},
     "output_type": "execute_result"
    }
   ],
   "source": [
    "s[8:0:-1]    #[lower bound : upper bound : ]"
   ]
  },
  {
   "cell_type": "code",
   "execution_count": 148,
   "id": "c185c21f-475c-4f18-9715-d8d68ffcae7d",
   "metadata": {},
   "outputs": [
    {
     "data": {
      "text/plain": [
       "''"
      ]
     },
     "execution_count": 148,
     "metadata": {},
     "output_type": "execute_result"
    }
   ],
   "source": [
    "s[-2 : -8 : 1]"
   ]
  },
  {
   "cell_type": "code",
   "execution_count": 149,
   "id": "2ead31a8-e7c4-4400-8c9f-6e56bd2fa671",
   "metadata": {},
   "outputs": [
    {
     "data": {
      "text/plain": [
       "'lliksw'"
      ]
     },
     "execution_count": 149,
     "metadata": {},
     "output_type": "execute_result"
    }
   ],
   "source": [
    "s[-2 : -8 : -1]"
   ]
  },
  {
   "cell_type": "code",
   "execution_count": 150,
   "id": "c9fb26af-bd6c-4be9-b05d-f9137cfbafd0",
   "metadata": {},
   "outputs": [
    {
     "data": {
      "text/plain": [
       "'llikswp'"
      ]
     },
     "execution_count": 150,
     "metadata": {},
     "output_type": "execute_result"
    }
   ],
   "source": [
    "s[-2 :  : -1]"
   ]
  },
  {
   "cell_type": "code",
   "execution_count": 151,
   "id": "b6a62622-2187-4d8c-881b-84012145cc4f",
   "metadata": {},
   "outputs": [
    {
     "data": {
      "text/plain": [
       "'slliksw'"
      ]
     },
     "execution_count": 151,
     "metadata": {},
     "output_type": "execute_result"
    }
   ],
   "source": [
    "s[ : -8 : -1]"
   ]
  },
  {
   "cell_type": "code",
   "execution_count": 152,
   "id": "1dec16eb-56c0-45b3-8497-db47ae0d71e9",
   "metadata": {},
   "outputs": [
    {
     "ename": "IndexError",
     "evalue": "string index out of range",
     "output_type": "error",
     "traceback": [
      "\u001b[0;31m---------------------------------------------------------------------------\u001b[0m",
      "\u001b[0;31mIndexError\u001b[0m                                Traceback (most recent call last)",
      "Cell \u001b[0;32mIn[152], line 1\u001b[0m\n\u001b[0;32m----> 1\u001b[0m \u001b[43ms\u001b[49m\u001b[43m[\u001b[49m\u001b[38;5;241;43m90\u001b[39;49m\u001b[43m]\u001b[49m\n",
      "\u001b[0;31mIndexError\u001b[0m: string index out of range"
     ]
    }
   ],
   "source": [
    "s[90]"
   ]
  },
  {
   "cell_type": "code",
   "execution_count": 153,
   "id": "892631f1-03c5-4f54-a552-50aa9a04076d",
   "metadata": {},
   "outputs": [
    {
     "data": {
      "text/plain": [
       "''"
      ]
     },
     "execution_count": 153,
     "metadata": {},
     "output_type": "execute_result"
    }
   ],
   "source": [
    "s[ : -90 : ]"
   ]
  },
  {
   "cell_type": "code",
   "execution_count": 154,
   "id": "bc2d6e4a-21f0-481a-8548-1d939add7813",
   "metadata": {},
   "outputs": [
    {
     "data": {
      "text/plain": [
       "'sllikswp'"
      ]
     },
     "execution_count": 154,
     "metadata": {},
     "output_type": "execute_result"
    }
   ],
   "source": [
    "s[ : -90 : -1]"
   ]
  },
  {
   "cell_type": "code",
   "execution_count": 155,
   "id": "8bbce8c6-63e2-4c2a-bb06-7df2a8696efe",
   "metadata": {},
   "outputs": [],
   "source": [
    "c=200"
   ]
  },
  {
   "cell_type": "code",
   "execution_count": 156,
   "id": "0e13254d-1e6d-4651-b085-75b507e86748",
   "metadata": {},
   "outputs": [],
   "source": [
    "#strinf manipulation "
   ]
  },
  {
   "cell_type": "code",
   "execution_count": 157,
   "id": "9ec4c0d8-93a4-489c-9747-9feb60f5c30a",
   "metadata": {},
   "outputs": [],
   "source": [
    "s1=\"this is my string class\"  "
   ]
  },
  {
   "cell_type": "code",
   "execution_count": 158,
   "id": "38f391a6-983a-4373-84e9-df63461d104f",
   "metadata": {},
   "outputs": [
    {
     "data": {
      "text/plain": [
       "23"
      ]
     },
     "execution_count": 158,
     "metadata": {},
     "output_type": "execute_result"
    }
   ],
   "source": [
    "len(s1)   #len in-build function"
   ]
  },
  {
   "cell_type": "code",
   "execution_count": 159,
   "id": "9f5ae0a8-21d0-4559-b9c7-6e59365ae145",
   "metadata": {},
   "outputs": [
    {
     "data": {
      "text/plain": [
       "3"
      ]
     },
     "execution_count": 159,
     "metadata": {},
     "output_type": "execute_result"
    }
   ],
   "source": [
    "s1.find(\"s\")"
   ]
  },
  {
   "cell_type": "code",
   "execution_count": 160,
   "id": "54469ea3-d8bd-4862-a80e-709892bb4651",
   "metadata": {},
   "outputs": [
    {
     "data": {
      "text/plain": [
       "2"
      ]
     },
     "execution_count": 160,
     "metadata": {},
     "output_type": "execute_result"
    }
   ],
   "source": [
    "s1.find(\"i\")"
   ]
  },
  {
   "cell_type": "code",
   "execution_count": 161,
   "id": "e7d6ac71-1778-470d-af81-b524c6be6b8d",
   "metadata": {},
   "outputs": [
    {
     "data": {
      "text/plain": [
       "2"
      ]
     },
     "execution_count": 161,
     "metadata": {},
     "output_type": "execute_result"
    }
   ],
   "source": [
    "s1.find(\"is\")"
   ]
  },
  {
   "cell_type": "code",
   "execution_count": 162,
   "id": "7591bd4a-a134-42a3-820c-81b07196d817",
   "metadata": {},
   "outputs": [
    {
     "data": {
      "text/plain": [
       "-1"
      ]
     },
     "execution_count": 162,
     "metadata": {},
     "output_type": "execute_result"
    }
   ],
   "source": [
    "s1.find(\"iS\")"
   ]
  },
  {
   "cell_type": "code",
   "execution_count": 163,
   "id": "d3d2f621-7b93-4636-8321-ec4472ac01a2",
   "metadata": {},
   "outputs": [
    {
     "data": {
      "text/plain": [
       "5"
      ]
     },
     "execution_count": 163,
     "metadata": {},
     "output_type": "execute_result"
    }
   ],
   "source": [
    "s1.count(\"s\")"
   ]
  },
  {
   "cell_type": "code",
   "execution_count": 164,
   "id": "8c12e95c-dfe7-4c0a-b194-26a5b42aee9d",
   "metadata": {},
   "outputs": [
    {
     "data": {
      "text/plain": [
       "1"
      ]
     },
     "execution_count": 164,
     "metadata": {},
     "output_type": "execute_result"
    }
   ],
   "source": [
    "s1.count(\"st\")"
   ]
  },
  {
   "cell_type": "code",
   "execution_count": 165,
   "id": "fd944a69-45c2-4024-9a93-7b67c18c3eeb",
   "metadata": {},
   "outputs": [
    {
     "data": {
      "text/plain": [
       "0"
      ]
     },
     "execution_count": 165,
     "metadata": {},
     "output_type": "execute_result"
    }
   ],
   "source": [
    "s1.count(\"z\")"
   ]
  },
  {
   "cell_type": "code",
   "execution_count": 166,
   "id": "89e50dd8-bcb7-4dfc-819a-08efff210a52",
   "metadata": {},
   "outputs": [
    {
     "data": {
      "text/plain": [
       "'this is my string class'"
      ]
     },
     "execution_count": 166,
     "metadata": {},
     "output_type": "execute_result"
    }
   ],
   "source": [
    "s1"
   ]
  },
  {
   "cell_type": "code",
   "execution_count": 167,
   "id": "c5b608e7-f934-41a9-9c53-e88a93910166",
   "metadata": {},
   "outputs": [
    {
     "data": {
      "text/plain": [
       "'THIS IS MY STRING CLASS'"
      ]
     },
     "execution_count": 167,
     "metadata": {},
     "output_type": "execute_result"
    }
   ],
   "source": [
    "s1.upper() "
   ]
  },
  {
   "cell_type": "code",
   "execution_count": 168,
   "id": "3b69b3bd-3980-4a45-8081-57ed1f78bb91",
   "metadata": {},
   "outputs": [
    {
     "data": {
      "text/plain": [
       "'THIS IS MY STRING CLASS'"
      ]
     },
     "execution_count": 168,
     "metadata": {},
     "output_type": "execute_result"
    }
   ],
   "source": [
    "s2='THIS IS MY STRING CLASS'\n",
    "s2"
   ]
  },
  {
   "cell_type": "code",
   "execution_count": 169,
   "id": "37a3195c-4885-42cf-a5fe-e25aaf1d3601",
   "metadata": {},
   "outputs": [
    {
     "data": {
      "text/plain": [
       "'this is my string class'"
      ]
     },
     "execution_count": 169,
     "metadata": {},
     "output_type": "execute_result"
    }
   ],
   "source": [
    "s2.lower()"
   ]
  },
  {
   "cell_type": "code",
   "execution_count": 170,
   "id": "764681a2-4c30-44cf-85ce-de836a28b7de",
   "metadata": {},
   "outputs": [
    {
     "data": {
      "text/plain": [
       "'This Is My String Class'"
      ]
     },
     "execution_count": 170,
     "metadata": {},
     "output_type": "execute_result"
    }
   ],
   "source": [
    "s1.title()"
   ]
  },
  {
   "cell_type": "code",
   "execution_count": 171,
   "id": "de5a7f8e-ee2a-4de8-9633-c48104ee06f0",
   "metadata": {},
   "outputs": [
    {
     "data": {
      "text/plain": [
       "'This is my string class'"
      ]
     },
     "execution_count": 171,
     "metadata": {},
     "output_type": "execute_result"
    }
   ],
   "source": [
    "s1.capitalize()"
   ]
  },
  {
   "cell_type": "code",
   "execution_count": 172,
   "id": "fd9542d6-30c3-4bab-835e-c705ef32432f",
   "metadata": {},
   "outputs": [
    {
     "data": {
      "text/plain": [
       "'pwskills'"
      ]
     },
     "execution_count": 172,
     "metadata": {},
     "output_type": "execute_result"
    }
   ],
   "source": [
    "s"
   ]
  },
  {
   "cell_type": "code",
   "execution_count": 173,
   "id": "d44f8a71-5715-4431-8eeb-c3f419236eb2",
   "metadata": {},
   "outputs": [
    {
     "ename": "TypeError",
     "evalue": "can only concatenate str (not \"int\") to str",
     "output_type": "error",
     "traceback": [
      "\u001b[0;31m---------------------------------------------------------------------------\u001b[0m",
      "\u001b[0;31mTypeError\u001b[0m                                 Traceback (most recent call last)",
      "Cell \u001b[0;32mIn[173], line 1\u001b[0m\n\u001b[0;32m----> 1\u001b[0m \u001b[43ms\u001b[49m\u001b[38;5;241;43m+\u001b[39;49m\u001b[38;5;241;43m1\u001b[39;49m \u001b[38;5;66;03m#concatenation\u001b[39;00m\n",
      "\u001b[0;31mTypeError\u001b[0m: can only concatenate str (not \"int\") to str"
     ]
    }
   ],
   "source": [
    "s+1 #concatenation"
   ]
  },
  {
   "cell_type": "code",
   "execution_count": 174,
   "id": "6a241859-96fc-45e3-8fc8-71d5df1b73a0",
   "metadata": {},
   "outputs": [
    {
     "data": {
      "text/plain": [
       "'pwskills tiya'"
      ]
     },
     "execution_count": 174,
     "metadata": {},
     "output_type": "execute_result"
    }
   ],
   "source": [
    "s+\" tiya\""
   ]
  },
  {
   "cell_type": "code",
   "execution_count": 175,
   "id": "81687379-04eb-4933-bc9a-da0eb0a37aef",
   "metadata": {},
   "outputs": [
    {
     "data": {
      "text/plain": [
       "'pwskills1'"
      ]
     },
     "execution_count": 175,
     "metadata": {},
     "output_type": "execute_result"
    }
   ],
   "source": [
    "s+\"1\" "
   ]
  },
  {
   "cell_type": "code",
   "execution_count": 176,
   "id": "c968f08c-48b7-4cf0-bf21-301a26d76333",
   "metadata": {},
   "outputs": [
    {
     "data": {
      "text/plain": [
       "'pwskills1'"
      ]
     },
     "execution_count": 176,
     "metadata": {},
     "output_type": "execute_result"
    }
   ],
   "source": [
    "s+str(1)"
   ]
  },
  {
   "cell_type": "code",
   "execution_count": 177,
   "id": "52dbf06d-594b-4329-825e-861804ef288c",
   "metadata": {},
   "outputs": [
    {
     "data": {
      "text/plain": [
       "'pwskillspwskillspwskills'"
      ]
     },
     "execution_count": 177,
     "metadata": {},
     "output_type": "execute_result"
    }
   ],
   "source": [
    "s * 3"
   ]
  },
  {
   "cell_type": "code",
   "execution_count": 178,
   "id": "e132129f-893c-49da-b740-861c7b1e2334",
   "metadata": {},
   "outputs": [
    {
     "data": {
      "text/plain": [
       "'tiyashatiyashatiyasha'"
      ]
     },
     "execution_count": 178,
     "metadata": {},
     "output_type": "execute_result"
    }
   ],
   "source": [
    "\"tiyasha\" * 3"
   ]
  },
  {
   "cell_type": "code",
   "execution_count": 179,
   "id": "2b932c17-a762-4b67-a9bb-599e59946b5e",
   "metadata": {},
   "outputs": [
    {
     "ename": "TypeError",
     "evalue": "unsupported operand type(s) for /: 'str' and 'int'",
     "output_type": "error",
     "traceback": [
      "\u001b[0;31m---------------------------------------------------------------------------\u001b[0m",
      "\u001b[0;31mTypeError\u001b[0m                                 Traceback (most recent call last)",
      "Cell \u001b[0;32mIn[179], line 1\u001b[0m\n\u001b[0;32m----> 1\u001b[0m \u001b[38;5;124;43m\"\u001b[39;49m\u001b[38;5;124;43mtiyasha\u001b[39;49m\u001b[38;5;124;43m\"\u001b[39;49m\u001b[43m \u001b[49m\u001b[38;5;241;43m/\u001b[39;49m\u001b[43m \u001b[49m\u001b[38;5;241;43m3\u001b[39;49m\n",
      "\u001b[0;31mTypeError\u001b[0m: unsupported operand type(s) for /: 'str' and 'int'"
     ]
    }
   ],
   "source": [
    "\"tiyasha\" / 3"
   ]
  },
  {
   "cell_type": "code",
   "execution_count": null,
   "id": "ee614a6b-26b6-46fc-aad3-6920b81e082b",
   "metadata": {},
   "outputs": [],
   "source": []
  }
 ],
 "metadata": {
  "kernelspec": {
   "display_name": "Python 3 (ipykernel)",
   "language": "python",
   "name": "python3"
  },
  "language_info": {
   "codemirror_mode": {
    "name": "ipython",
    "version": 3
   },
   "file_extension": ".py",
   "mimetype": "text/x-python",
   "name": "python",
   "nbconvert_exporter": "python",
   "pygments_lexer": "ipython3",
   "version": "3.10.8"
  }
 },
 "nbformat": 4,
 "nbformat_minor": 5
}
